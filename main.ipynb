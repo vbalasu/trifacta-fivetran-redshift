{
 "cells": [
  {
   "cell_type": "markdown",
   "metadata": {},
   "source": [
    "# Demo script"
   ]
  },
  {
   "cell_type": "markdown",
   "metadata": {},
   "source": [
    "### Part 1 - Fivetran"
   ]
  },
  {
   "cell_type": "markdown",
   "metadata": {},
   "source": [
    "##### Step 1: Set up Redshift as the destination data warehouse"
   ]
  },
  {
   "cell_type": "markdown",
   "metadata": {},
   "source": [
    "* Log in to https://fivetran.com as an administrator\n",
    "* Select `Manage account` from the top left menu, or navigate your browser to https://fivetran.com/account\n",
    "* From the Destinations panel, add a new destination\n",
    "* Choose `Redshift` as the warehouse type. Fill in the details as shown below"
   ]
  },
  {
   "cell_type": "markdown",
   "metadata": {},
   "source": [
    "<img src=\"media/fivetran-warehouse.png\" width=\"500px\">"
   ]
  },
  {
   "cell_type": "markdown",
   "metadata": {},
   "source": [
    "##### Step 2: Define connectors for each data source"
   ]
  },
  {
   "cell_type": "markdown",
   "metadata": {},
   "source": [
    "* On the left pane, select Connectors\n",
    "* Add a new connector for Google Ads. Follow the instructions to connect to your Google Ads account\n",
    "* In this demo we will use Google Sheets instead of Google Ads. Ensure that the [spreadsheet](https://docs.google.com/spreadsheets/d/1BzGIzwDvyIDEeMsGj8wC1EXxEAEPodf8U-BUXKuZp-w/edit#gid=0) is shared with the [service account](mailto:g-airplane-chlorophyll@fivetran-production.iam.gserviceaccount.com) for your Fivetran account\n",
    "* Set the schema to `google_ads_demo`. Set the destination table name to match the tab name, and the Sheet URL to point to your spreadsheet. Pick the named range from the dropdown menu (eg. `final_url_performance`)\n",
    "* Save and test the connection"
   ]
  },
  {
   "cell_type": "markdown",
   "metadata": {},
   "source": [
    "<img src=\"media/fivetran-connectors.png\" width=\"500px\">"
   ]
  },
  {
   "cell_type": "markdown",
   "metadata": {},
   "source": [
    "##### Step 3: Set up synchronization schedule"
   ]
  },
  {
   "cell_type": "markdown",
   "metadata": {},
   "source": [
    "* Open each connection and set the sync frequency (eg. every 6 hours)\n",
    "* Optionally, select `Sync now` to perform a manual sync"
   ]
  },
  {
   "cell_type": "markdown",
   "metadata": {},
   "source": [
    "### Part 2 - Trifacta"
   ]
  },
  {
   "cell_type": "markdown",
   "metadata": {},
   "source": [
    "##### Step 1: Apply data quality rules"
   ]
  },
  {
   "cell_type": "markdown",
   "metadata": {},
   "source": [
    "In the `final_url_summary`, we want to view metrics for each `date`, `campaign` and `ad group`. To ensure accurate reporting, we apply a data quality rule to check if the combination of `date`, `campaign_name` and `ad_group_name` is unique.\n",
    "* Merge the 3 columns: `date`, `campaign_name` and `ad_group_name`\n",
    "* Create a data quality rule to check if the combinations are unique"
   ]
  },
  {
   "cell_type": "markdown",
   "metadata": {},
   "source": [
    "Based on reviewing the data quality rule, it looks like we have some duplicates."
   ]
  },
  {
   "cell_type": "markdown",
   "metadata": {},
   "source": [
    "![trifacta-dq-unique.png](media/trifacta-dq-unique.png)"
   ]
  },
  {
   "cell_type": "markdown",
   "metadata": {},
   "source": [
    "Let's resolve these duplicates by summarizing the data. We will use a pivot table to group values by `date_campaign_ad_group`, `date`, `campaign_name` and `ad_group_name`. Calculate the sum of `cost`, `impressions` and `clicks`. After that, check the data quality rule again. This time it should pass."
   ]
  },
  {
   "cell_type": "markdown",
   "metadata": {},
   "source": [
    "##### Step 2: Build time series"
   ]
  },
  {
   "cell_type": "markdown",
   "metadata": {},
   "source": [
    "We want to ensure that we have a full 3 quarters worth of data, with no gaps in between. To do this, we create a time series covering the first 3 quarters of 2020. We invoke a `TimeSeries` macro that accepts `start_date`, `end_date` and `new_column_name` as parameters. "
   ]
  },
  {
   "cell_type": "markdown",
   "metadata": {},
   "source": [
    "![media/trifacta-macro-timeseries.png](media/trifacta-macro-timeseries.png)"
   ]
  },
  {
   "cell_type": "markdown",
   "metadata": {},
   "source": [
    "In a single step, we have created a range of dates. Behind the scenes, this executes a series of steps (show macro `Inspect` view)."
   ]
  },
  {
   "cell_type": "markdown",
   "metadata": {},
   "source": [
    "<img src=\"media/trifacta-macro-inspect.png\" width=\"500px\">"
   ]
  },
  {
   "cell_type": "markdown",
   "metadata": {},
   "source": [
    "Delete the `Field1` column as we don't need it."
   ]
  },
  {
   "cell_type": "markdown",
   "metadata": {},
   "source": [
    "##### Step 3: Join and summarize data"
   ]
  },
  {
   "cell_type": "markdown",
   "metadata": {},
   "source": [
    "We will now combine the time series data with click_performance. Create a new `click_details` recipe starting from the time series. Then perform a lookup based on `date`. Apply a data quality rule to see if there are any missing values for `campaign_name` or `ad_group_name`.\n",
    "\n",
    "We notice that there is missing data for 6 days."
   ]
  },
  {
   "cell_type": "markdown",
   "metadata": {},
   "source": [
    "![media/trifacta-dq-time-series-gaps.png](media/trifacta-dq-time-series-gaps.png)"
   ]
  },
  {
   "cell_type": "markdown",
   "metadata": {},
   "source": [
    "We won't take any action at this time to address the missing data. The data profile will capture a record of this data quality issue for further investigation."
   ]
  },
  {
   "cell_type": "markdown",
   "metadata": {},
   "source": [
    "Switch to the `campaign_summary` recipe. We will summarize campaign metrics to identify the most effective campaigns. For this, we use a pivot table and group by `campaign_name` to sum `cost`, `impressions` and `clicks`"
   ]
  },
  {
   "cell_type": "markdown",
   "metadata": {},
   "source": [
    "![media/trifacta-pivot.png](media/trifacta-pivot.png)"
   ]
  },
  {
   "cell_type": "markdown",
   "metadata": {},
   "source": [
    "##### Step 4: Calculate derived metrics"
   ]
  },
  {
   "cell_type": "markdown",
   "metadata": {},
   "source": [
    "We now have some basic metrics summarized at the campaign level. Let's calculate some derived metrics as follows:\n",
    "\n",
    "* `cost_per_click` = `sum_cost` / `sum_clicks`\n",
    "* `impressions_per_click` = `sum_impressions` / `sum_clicks`"
   ]
  },
  {
   "cell_type": "markdown",
   "metadata": {},
   "source": [
    "To measure effectiveness of marketing spend, we bring in Sales data from our ERP systems (`sales_summary` table) by doing a lookup against the `campaign_name` field. Using this we can calculate `sales_per_marketing_dollar` as follows:\n",
    "\n",
    "* `sales_per_marketing_dollar` = `sales` / `sum_cost`"
   ]
  },
  {
   "cell_type": "markdown",
   "metadata": {},
   "source": [
    "Looking at these numbers, we learn that **holiday promotions** are delivering the best bang for our buck."
   ]
  },
  {
   "cell_type": "markdown",
   "metadata": {},
   "source": [
    "##### Step 5: Publish results to Redshift"
   ]
  },
  {
   "cell_type": "markdown",
   "metadata": {},
   "source": [
    "The final step is to publish the prepared data to Redshift. We do this be defining publish destinations and specifying the schema and table where we want to persist the outputs."
   ]
  },
  {
   "cell_type": "markdown",
   "metadata": {},
   "source": [
    "![media/trifacta-publish.png](media/trifacta-publish.png)"
   ]
  },
  {
   "cell_type": "markdown",
   "metadata": {},
   "source": [
    "After specifying the publish destinations, run a job to produce the outputs. The job also produces an output profile for each dataset that provides a data quality score at the end of the process. \n",
    "\n",
    "(Show the output profile)\n",
    "\n",
    "If you are comfortable with the data quality, you can proceed to consume this data through a BI dashboard in Amazon QuickSight."
   ]
  }
 ],
 "metadata": {
  "kernelspec": {
   "display_name": "Python 3",
   "language": "python",
   "name": "python3"
  },
  "language_info": {
   "codemirror_mode": {
    "name": "ipython",
    "version": 3
   },
   "file_extension": ".py",
   "mimetype": "text/x-python",
   "name": "python",
   "nbconvert_exporter": "python",
   "pygments_lexer": "ipython3",
   "version": "3.8.3"
  }
 },
 "nbformat": 4,
 "nbformat_minor": 4
}
