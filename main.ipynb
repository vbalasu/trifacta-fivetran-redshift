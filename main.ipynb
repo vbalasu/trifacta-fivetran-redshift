{
 "cells": [
  {
   "cell_type": "markdown",
   "metadata": {},
   "source": [
    "# Demo script"
   ]
  },
  {
   "cell_type": "markdown",
   "metadata": {},
   "source": [
    "### Part 1 - Fivetran"
   ]
  },
  {
   "cell_type": "markdown",
   "metadata": {},
   "source": [
    "##### Step 1: Set up Redshift as the destination data warehouse"
   ]
  },
  {
   "cell_type": "markdown",
   "metadata": {},
   "source": [
    "* Log in to https://fivetran.com as an administrator\n",
    "* Select `Manage account` from the top left menu, or navigate your browser to https://fivetran.com/account\n",
    "* From the Destinations panel, add a new destination\n",
    "* Choose `Redshift` as the warehouse type. Fill in the details as shown below"
   ]
  },
  {
   "cell_type": "markdown",
   "metadata": {},
   "source": [
    "<img src=\"media/fivetran-warehouse.png\" width=\"500px\">"
   ]
  },
  {
   "cell_type": "markdown",
   "metadata": {},
   "source": [
    "##### Step 2: Define connectors for each data source"
   ]
  },
  {
   "cell_type": "markdown",
   "metadata": {},
   "source": [
    "* On the left pane, select Connectors\n",
    "* Add a new connector for Google Ads. Follow the instructions to connect to your Google Ads account\n",
    "* In this demo we will use Google Sheets instead of Google Ads. Ensure that the [spreadsheet](https://docs.google.com/spreadsheets/d/1BzGIzwDvyIDEeMsGj8wC1EXxEAEPodf8U-BUXKuZp-w/edit#gid=0) is shared with the [service account](mailto:g-airplane-chlorophyll@fivetran-production.iam.gserviceaccount.com) for your Fivetran account\n",
    "* Set the schema to `google_ads_demo`. Set the destination table name to match the tab name, and the Sheet URL to point to your spreadsheet. Pick the named range from the dropdown menu (eg. `final_url_performance`)\n",
    "* Save and test the connection"
   ]
  },
  {
   "cell_type": "markdown",
   "metadata": {},
   "source": [
    "<img src=\"media/fivetran-connectors.png\" width=\"500px\">"
   ]
  },
  {
   "cell_type": "markdown",
   "metadata": {},
   "source": [
    "##### Step 3: Set up synchronization schedule"
   ]
  },
  {
   "cell_type": "markdown",
   "metadata": {},
   "source": [
    "* Open each connection and set the sync frequency (eg. every 6 hours)\n",
    "* Optionally, select `Sync now` to perform a manual sync"
   ]
  },
  {
   "cell_type": "markdown",
   "metadata": {},
   "source": [
    "### Part 2 - Trifacta"
   ]
  },
  {
   "cell_type": "code",
   "execution_count": null,
   "metadata": {},
   "outputs": [],
   "source": []
  }
 ],
 "metadata": {
  "kernelspec": {
   "display_name": "Python 3",
   "language": "python",
   "name": "python3"
  },
  "language_info": {
   "codemirror_mode": {
    "name": "ipython",
    "version": 3
   },
   "file_extension": ".py",
   "mimetype": "text/x-python",
   "name": "python",
   "nbconvert_exporter": "python",
   "pygments_lexer": "ipython3",
   "version": "3.8.3"
  }
 },
 "nbformat": 4,
 "nbformat_minor": 4
}
